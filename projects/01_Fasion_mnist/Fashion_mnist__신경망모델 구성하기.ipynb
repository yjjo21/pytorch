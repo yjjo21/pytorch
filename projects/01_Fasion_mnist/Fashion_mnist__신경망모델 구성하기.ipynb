{
 "cells": [
  {
   "cell_type": "markdown",
   "id": "d8cc842a-939d-4bc1-b17f-8017bdf5cd02",
   "metadata": {},
   "source": [
    "## 신경망 모델 구성하기"
   ]
  },
  {
   "cell_type": "code",
   "execution_count": 1,
   "id": "e6e4eaba-2e06-4e32-a395-a18f3d40bcde",
   "metadata": {},
   "outputs": [],
   "source": [
    "import os\n",
    "import torch\n",
    "from torch import nn\n",
    "from torch.utils.data import DataLoader\n",
    "from torchvision import datasets, transforms"
   ]
  },
  {
   "cell_type": "code",
   "execution_count": 2,
   "id": "2ec738c5-5a80-47be-992c-a120f99ee938",
   "metadata": {},
   "outputs": [
    {
     "name": "stdout",
     "output_type": "stream",
     "text": [
      "Using cuda device\n"
     ]
    }
   ],
   "source": [
    "device = \"cuda\" if torch.cuda.is_available() else \"cpu\"\n",
    "print(f\"Using {device} device\")"
   ]
  },
  {
   "cell_type": "code",
   "execution_count": 3,
   "id": "279939fd-92bf-4b1e-bd51-31adfe8a6796",
   "metadata": {},
   "outputs": [],
   "source": [
    "class NeuralNetwork(nn.Module):\n",
    "    def __init__(self):\n",
    "        super(NeuralNetwork, self).__init__()\n",
    "        self.flatten = nn.Flatten()\n",
    "        self.linear_relu_stack = nn.Sequential(\n",
    "            nn.Linear(28*28, 512),\n",
    "            nn.ReLU(),\n",
    "            nn.Linear(512, 512),\n",
    "            nn.ReLU(),\n",
    "            nn.Linear(512, 10),\n",
    "        )\n",
    "\n",
    "    def forward(self, x):\n",
    "        x = self.flatten(x)\n",
    "        logits = self.linear_relu_stack(x)\n",
    "        return logits"
   ]
  },
  {
   "cell_type": "code",
   "execution_count": 4,
   "id": "789a7880-5321-4905-9f42-3023be135d9d",
   "metadata": {},
   "outputs": [
    {
     "name": "stdout",
     "output_type": "stream",
     "text": [
      "NeuralNetwork(\n",
      "  (flatten): Flatten(start_dim=1, end_dim=-1)\n",
      "  (linear_relu_stack): Sequential(\n",
      "    (0): Linear(in_features=784, out_features=512, bias=True)\n",
      "    (1): ReLU()\n",
      "    (2): Linear(in_features=512, out_features=512, bias=True)\n",
      "    (3): ReLU()\n",
      "    (4): Linear(in_features=512, out_features=10, bias=True)\n",
      "  )\n",
      ")\n"
     ]
    }
   ],
   "source": [
    "model = NeuralNetwork().to(device)\n",
    "print(model)"
   ]
  },
  {
   "cell_type": "code",
   "execution_count": 13,
   "id": "0ab4d727-7125-4c53-8236-c558b865cb3e",
   "metadata": {},
   "outputs": [
    {
     "data": {
      "text/plain": [
       "tensor([5], device='cuda:0')"
      ]
     },
     "execution_count": 13,
     "metadata": {},
     "output_type": "execute_result"
    }
   ],
   "source": [
    "pred_probab.argmax(1)"
   ]
  },
  {
   "cell_type": "code",
   "execution_count": 14,
   "id": "d757ee3e-43ef-401f-99ed-7fc1d394e02e",
   "metadata": {},
   "outputs": [
    {
     "data": {
      "text/plain": [
       "tensor([[0.0921, 0.0983, 0.0875, 0.1074, 0.1080, 0.1088, 0.0992, 0.1019, 0.1042,\n",
       "         0.0926]], device='cuda:0', grad_fn=<SoftmaxBackward0>)"
      ]
     },
     "execution_count": 14,
     "metadata": {},
     "output_type": "execute_result"
    }
   ],
   "source": [
    "pred_probab"
   ]
  },
  {
   "cell_type": "code",
   "execution_count": 11,
   "id": "171a2107-fdeb-45a7-a657-bd416fa1ceb4",
   "metadata": {},
   "outputs": [
    {
     "name": "stdout",
     "output_type": "stream",
     "text": [
      "\t [ X.shape ] torch.Size([1, 28, 28])\n",
      "\t [ logits.shape ] torch.Size([1, 10])\n",
      "\t [ pred_prbob.shape] torch.Size([1, 10])\n",
      "Predicted class: tensor([5], device='cuda:0')\n"
     ]
    }
   ],
   "source": [
    "X = torch.rand(1, 28, 28, device=device)\n",
    "print(f'\\t [ X.shape ] {X.shape}')\n",
    "logits = model(X)\n",
    "print(f'\\t [ logits.shape ] {logits.shape}')\n",
    "pred_probab = nn.Softmax(dim=1)(logits)\n",
    "print(f'\\t [ pred_prbob.shape ] {pred_probab.shape}' )\n",
    "y_pred = pred_probab.argmax(1)\n",
    "print(f\"Predicted class: {y_pred}\")"
   ]
  },
  {
   "cell_type": "markdown",
   "id": "7f378d59-776a-4aa8-903f-f5bee03a665b",
   "metadata": {},
   "source": [
    "### 모델 계층"
   ]
  },
  {
   "cell_type": "code",
   "execution_count": 15,
   "id": "fa47444d-801c-4039-9a1e-766932da7d13",
   "metadata": {},
   "outputs": [
    {
     "name": "stdout",
     "output_type": "stream",
     "text": [
      "torch.Size([3, 28, 28])\n"
     ]
    }
   ],
   "source": [
    "input_image = torch.rand(3,28,28)\n",
    "print(input_image.size())"
   ]
  },
  {
   "cell_type": "code",
   "execution_count": 16,
   "id": "d696c3a1-76e1-4c70-9af5-f27c57af3d92",
   "metadata": {},
   "outputs": [
    {
     "name": "stdout",
     "output_type": "stream",
     "text": [
      "torch.Size([3, 784])\n"
     ]
    }
   ],
   "source": [
    "flatten = nn.Flatten()\n",
    "flat_image = flatten(input_image)\n",
    "print(flat_image.size())"
   ]
  },
  {
   "cell_type": "code",
   "execution_count": 17,
   "id": "f3e7a21a-9d97-4ad8-bce6-b1d46b683a48",
   "metadata": {},
   "outputs": [
    {
     "name": "stdout",
     "output_type": "stream",
     "text": [
      "torch.Size([3, 20])\n"
     ]
    }
   ],
   "source": [
    "layer1 = nn.Linear(in_features=28*28, out_features=20)\n",
    "hidden1 = layer1(flat_image)\n",
    "print(hidden1.size())"
   ]
  },
  {
   "cell_type": "code",
   "execution_count": 18,
   "id": "73c3c304-a2e6-4bf1-8427-0a43069667a0",
   "metadata": {},
   "outputs": [
    {
     "name": "stdout",
     "output_type": "stream",
     "text": [
      "Before ReLU: tensor([[-0.0112,  0.0479, -0.1383,  0.2831, -0.6548, -0.1220,  0.6486, -0.5407,\n",
      "          0.4081, -0.1974, -0.4552,  0.5990,  0.1773,  0.6883, -0.9215,  0.7965,\n",
      "          0.6805, -0.0388,  0.0974,  0.6106],\n",
      "        [ 0.0946, -0.1023,  0.0078,  0.1383, -0.1650, -0.2439,  0.5220, -0.3834,\n",
      "          0.3424, -0.0645, -0.2624,  0.3676,  0.3626,  0.6301, -0.8004,  0.5285,\n",
      "          0.3032, -0.2917,  0.0442,  0.4394],\n",
      "        [ 0.1518, -0.0900, -0.0253,  0.2431, -0.0849, -0.3135,  0.2110, -0.3708,\n",
      "          0.0826, -0.1057, -0.4813, -0.1248,  0.4269,  0.9126, -0.8500,  0.5833,\n",
      "          0.5046, -0.1595, -0.0630,  0.5528]], grad_fn=<AddmmBackward0>)\n",
      "\n",
      "\n",
      "After ReLU: tensor([[0.0000, 0.0479, 0.0000, 0.2831, 0.0000, 0.0000, 0.6486, 0.0000, 0.4081,\n",
      "         0.0000, 0.0000, 0.5990, 0.1773, 0.6883, 0.0000, 0.7965, 0.6805, 0.0000,\n",
      "         0.0974, 0.6106],\n",
      "        [0.0946, 0.0000, 0.0078, 0.1383, 0.0000, 0.0000, 0.5220, 0.0000, 0.3424,\n",
      "         0.0000, 0.0000, 0.3676, 0.3626, 0.6301, 0.0000, 0.5285, 0.3032, 0.0000,\n",
      "         0.0442, 0.4394],\n",
      "        [0.1518, 0.0000, 0.0000, 0.2431, 0.0000, 0.0000, 0.2110, 0.0000, 0.0826,\n",
      "         0.0000, 0.0000, 0.0000, 0.4269, 0.9126, 0.0000, 0.5833, 0.5046, 0.0000,\n",
      "         0.0000, 0.5528]], grad_fn=<ReluBackward0>)\n"
     ]
    }
   ],
   "source": [
    "print(f\"Before ReLU: {hidden1}\\n\\n\")\n",
    "hidden1 = nn.ReLU()(hidden1)\n",
    "print(f\"After ReLU: {hidden1}\")"
   ]
  },
  {
   "cell_type": "code",
   "execution_count": 19,
   "id": "254614a4-2f48-46b5-ae8d-a2b0489ca64c",
   "metadata": {},
   "outputs": [],
   "source": [
    "seq_modules = nn.Sequential(\n",
    "    flatten,\n",
    "    layer1,\n",
    "    nn.ReLU(),\n",
    "    nn.Linear(20, 10)\n",
    ")\n",
    "input_image = torch.rand(3,28,28)\n",
    "logits = seq_modules(input_image)"
   ]
  },
  {
   "cell_type": "code",
   "execution_count": 20,
   "id": "2aba3861-98ff-4a28-be9e-841ef9215b57",
   "metadata": {},
   "outputs": [],
   "source": [
    "softmax = nn.Softmax(dim=1)\n",
    "pred_probab = softmax(logits)"
   ]
  },
  {
   "cell_type": "code",
   "execution_count": 23,
   "id": "67c729ed-7762-4f73-bead-130c0608b73a",
   "metadata": {},
   "outputs": [
    {
     "name": "stdout",
     "output_type": "stream",
     "text": [
      "tensor([[0.0880, 0.1183, 0.1173, 0.0778, 0.1072, 0.1174, 0.0743, 0.1086, 0.0864,\n",
      "         0.1046],\n",
      "        [0.0868, 0.1187, 0.1086, 0.0751, 0.1056, 0.1221, 0.0770, 0.1117, 0.0889,\n",
      "         0.1056],\n",
      "        [0.0860, 0.1225, 0.1177, 0.0786, 0.1083, 0.1183, 0.0788, 0.1052, 0.0730,\n",
      "         0.1117]], grad_fn=<SoftmaxBackward0>)\n"
     ]
    }
   ],
   "source": [
    "print(pred_probab)"
   ]
  },
  {
   "cell_type": "code",
   "execution_count": 22,
   "id": "2030e838-aaf4-4318-8192-33864da609e3",
   "metadata": {},
   "outputs": [
    {
     "name": "stdout",
     "output_type": "stream",
     "text": [
      "Model structure: NeuralNetwork(\n",
      "  (flatten): Flatten(start_dim=1, end_dim=-1)\n",
      "  (linear_relu_stack): Sequential(\n",
      "    (0): Linear(in_features=784, out_features=512, bias=True)\n",
      "    (1): ReLU()\n",
      "    (2): Linear(in_features=512, out_features=512, bias=True)\n",
      "    (3): ReLU()\n",
      "    (4): Linear(in_features=512, out_features=10, bias=True)\n",
      "  )\n",
      ")\n",
      "\n",
      "\n",
      "Layer: linear_relu_stack.0.weight | Size: torch.Size([512, 784]) | Values : tensor([[-0.0102,  0.0131, -0.0334,  ...,  0.0155, -0.0145, -0.0323],\n",
      "        [-0.0296,  0.0291, -0.0174,  ..., -0.0334,  0.0163, -0.0330]],\n",
      "       device='cuda:0', grad_fn=<SliceBackward0>) \n",
      "\n",
      "Layer: linear_relu_stack.0.bias | Size: torch.Size([512]) | Values : tensor([-0.0067, -0.0262], device='cuda:0', grad_fn=<SliceBackward0>) \n",
      "\n",
      "Layer: linear_relu_stack.2.weight | Size: torch.Size([512, 512]) | Values : tensor([[-0.0235,  0.0134,  0.0047,  ..., -0.0223, -0.0403, -0.0424],\n",
      "        [-0.0361,  0.0276,  0.0045,  ..., -0.0206,  0.0065,  0.0226]],\n",
      "       device='cuda:0', grad_fn=<SliceBackward0>) \n",
      "\n",
      "Layer: linear_relu_stack.2.bias | Size: torch.Size([512]) | Values : tensor([-0.0186,  0.0345], device='cuda:0', grad_fn=<SliceBackward0>) \n",
      "\n",
      "Layer: linear_relu_stack.4.weight | Size: torch.Size([10, 512]) | Values : tensor([[-0.0005,  0.0205,  0.0420,  ..., -0.0282,  0.0310,  0.0439],\n",
      "        [-0.0043,  0.0270, -0.0231,  ..., -0.0078, -0.0016,  0.0379]],\n",
      "       device='cuda:0', grad_fn=<SliceBackward0>) \n",
      "\n",
      "Layer: linear_relu_stack.4.bias | Size: torch.Size([10]) | Values : tensor([-0.0058, -0.0307], device='cuda:0', grad_fn=<SliceBackward0>) \n",
      "\n"
     ]
    }
   ],
   "source": [
    "print(f\"Model structure: {model}\\n\\n\")\n",
    "\n",
    "for name, param in model.named_parameters():\n",
    "    print(f\"Layer: {name} | Size: {param.size()} | Values : {param[:2]} \\n\")"
   ]
  }
 ],
 "metadata": {
  "kernelspec": {
   "display_name": "Environment (conda_pytorch_p38)",
   "language": "python",
   "name": "conda_pytorch_p38"
  },
  "language_info": {
   "codemirror_mode": {
    "name": "ipython",
    "version": 3
   },
   "file_extension": ".py",
   "mimetype": "text/x-python",
   "name": "python",
   "nbconvert_exporter": "python",
   "pygments_lexer": "ipython3",
   "version": "3.8.13"
  }
 },
 "nbformat": 4,
 "nbformat_minor": 5
}
